{
  "nbformat": 4,
  "nbformat_minor": 0,
  "metadata": {
    "colab": {
      "provenance": []
    },
    "kernelspec": {
      "name": "python3",
      "display_name": "Python 3"
    },
    "language_info": {
      "name": "python"
    }
  },
  "cells": [
    {
      "cell_type": "markdown",
      "source": [
        "**Task**\n",
        "\n",
        "Given an integer, n, and n space-separated integers as input, create a tuple, , of those  integers. Then compute and print the result of hash(t).\n",
        "\n",
        "Note: hash() is one of the functions in the __ builtins__ module, so it need not be imported.\n",
        "\n",
        "**Input Format**\n",
        "\n",
        "The first line contains an integer, n, denoting the number of elements in the tuple.\n",
        "\n",
        "The second line contains n space-separated integers describing the elements in tuple t.\n",
        "\n",
        "**Output Format**\n",
        "\n",
        "Print the result of hash(t).\n",
        "\n"
      ],
      "metadata": {
        "id": "xJ4d46YpJYQk"
      }
    },
    {
      "cell_type": "code",
      "execution_count": 5,
      "metadata": {
        "colab": {
          "base_uri": "https://localhost:8080/"
        },
        "id": "ZJfCpiJSIxTu",
        "outputId": "ef50c7c9-0c7c-4f7e-8382-8665a2df2686"
      },
      "outputs": [
        {
          "output_type": "stream",
          "name": "stdout",
          "text": [
            "4\n",
            "1 2 3 4\n",
            "590899387183067792\n"
          ]
        }
      ],
      "source": [
        "n = int(input())\n",
        "nums = map(int, input().split())\n",
        "t = tuple(nums)\n",
        "print(hash(t))"
      ]
    }
  ]
}