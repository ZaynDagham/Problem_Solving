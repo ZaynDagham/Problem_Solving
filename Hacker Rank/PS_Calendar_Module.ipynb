{
  "nbformat": 4,
  "nbformat_minor": 0,
  "metadata": {
    "colab": {
      "provenance": []
    },
    "kernelspec": {
      "name": "python3",
      "display_name": "Python 3"
    },
    "language_info": {
      "name": "python"
    }
  },
  "cells": [
    {
      "cell_type": "markdown",
      "source": [
        "**Task**\n",
        "\n",
        "You are given a date. Your task is to find what the day is on that date.\n",
        "\n",
        "**Input Format**\n",
        "\n",
        "A single line of input containing the space separated month, day and year, respectively, in MM DD YYYY format.\n",
        "\n",
        "\n",
        "**Output Format**\n",
        "\n",
        "Output the correct day in capital letters.\n",
        "\n",
        "**Sample Input**\n",
        "\n",
        "08 05 2015\n",
        "\n",
        "**Sample Output**\n",
        "\n",
        "WEDNESDAY\n",
        "\n"
      ],
      "metadata": {
        "id": "5BUm0TdlE0-3"
      }
    },
    {
      "cell_type": "code",
      "execution_count": 1,
      "metadata": {
        "colab": {
          "base_uri": "https://localhost:8080/"
        },
        "id": "8KceJTg-ErTt",
        "outputId": "38dc636e-3a21-4966-b43b-bf22599976e4"
      },
      "outputs": [
        {
          "output_type": "stream",
          "name": "stdout",
          "text": [
            "03 03 1997\n",
            "MONDAY\n"
          ]
        }
      ],
      "source": [
        "import calendar\n",
        "\n",
        "m,d,y = map(int, input().split())\n",
        "\n",
        "day = calendar.weekday(y,m,d)\n",
        "print(calendar.day_name[day].upper())"
      ]
    }
  ]
}