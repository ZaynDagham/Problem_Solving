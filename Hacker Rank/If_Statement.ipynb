{
  "nbformat": 4,
  "nbformat_minor": 0,
  "metadata": {
    "colab": {
      "provenance": []
    },
    "kernelspec": {
      "name": "python3",
      "display_name": "Python 3"
    },
    "language_info": {
      "name": "python"
    }
  },
  "cells": [
    {
      "cell_type": "markdown",
      "source": [
        "**Task**\n",
        "\n",
        "Given an integer, n, perform the following conditional actions:\n",
        "\n",
        "\n",
        "*   If n is odd, print Weird\n",
        "*   If n is even and in the inclusive range of 2 to 5, print Not Weird\n",
        "*   If n is even and in the inclusive range of 6 to 20, print Weird\n",
        "*   If n is even and greater than 20, print Not Weird\n",
        "\n",
        "**Input Format**\n",
        "\n",
        "A single line containing a positive integer, n."
      ],
      "metadata": {
        "id": "x83nVEjEVsaO"
      }
    },
    {
      "cell_type": "code",
      "execution_count": 4,
      "metadata": {
        "colab": {
          "base_uri": "https://localhost:8080/"
        },
        "id": "jt4XHi3MVp_S",
        "outputId": "22382261-dcc0-40e9-be76-e0639e7a0cf1"
      },
      "outputs": [
        {
          "output_type": "stream",
          "name": "stdout",
          "text": [
            "17\n",
            "Weird\n"
          ]
        }
      ],
      "source": [
        "n = int(input())\n",
        "if n % 2 !=0:\n",
        "    print('Weird')\n",
        "\n",
        "if n % 2 ==0:\n",
        "    if n > 2 and n <=5:\n",
        "        print('Not Weird')\n",
        "    if n > 6 and n <=20:\n",
        "        print('Weird')\n",
        "    if n > 20:\n",
        "        print('Not Weird')"
      ]
    }
  ]
}