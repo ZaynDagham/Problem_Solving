{
  "nbformat": 4,
  "nbformat_minor": 0,
  "metadata": {
    "colab": {
      "provenance": []
    },
    "kernelspec": {
      "name": "python3",
      "display_name": "Python 3"
    },
    "language_info": {
      "name": "python"
    }
  },
  "cells": [
    {
      "cell_type": "markdown",
      "source": [
        "https://www.hackerrank.com/challenges/find-second-maximum-number-in-a-list/problem"
      ],
      "metadata": {
        "id": "iEdlkIqdX_9C"
      }
    },
    {
      "cell_type": "code",
      "execution_count": 1,
      "metadata": {
        "colab": {
          "base_uri": "https://localhost:8080/"
        },
        "id": "M8IlsQpUXF7c",
        "outputId": "fa157673-d2f6-4f29-d572-f745b77a1315"
      },
      "outputs": [
        {
          "output_type": "stream",
          "name": "stdout",
          "text": [
            "5\n",
            "2 3 6 6 5\n",
            "5\n"
          ]
        }
      ],
      "source": [
        "n = int(input())\n",
        "arr = map(int, input().split())\n",
        "List = list(arr)\n",
        "\n",
        "List.sort()\n",
        "h_number = max(List)\n",
        "\n",
        "for i in range(len(List)-1, -1, -1):\n",
        "    if List[i] < h_number:\n",
        "        break\n",
        "\n",
        "print(List[i])"
      ]
    }
  ]
}