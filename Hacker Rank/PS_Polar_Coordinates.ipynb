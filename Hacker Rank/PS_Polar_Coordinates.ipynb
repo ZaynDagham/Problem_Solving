{
  "nbformat": 4,
  "nbformat_minor": 0,
  "metadata": {
    "colab": {
      "provenance": []
    },
    "kernelspec": {
      "name": "python3",
      "display_name": "Python 3"
    },
    "language_info": {
      "name": "python"
    }
  },
  "cells": [
    {
      "cell_type": "markdown",
      "source": [
        "Polar coordinates are an alternative way of representing Cartesian coordinates or Complex Numbers.\n",
        "\n",
        "A complex number ***z***\n",
        "\n",
        "z = x + yj\n",
        "\n",
        "is completely determined by its real part ***x*** and imaginary part ***y***.\n",
        "Here, ***j*** is the imaginary unit.\n",
        "\n"
      ],
      "metadata": {
        "id": "xDi56daU5-J3"
      }
    },
    {
      "cell_type": "markdown",
      "source": [
        "![1440141121-5b051fd241-Capture.png](data:image/png;base64,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)"
      ],
      "metadata": {
        "id": "ZnxdfKsO59Yw"
      }
    },
    {
      "cell_type": "markdown",
      "source": [
        "A polar coordinate (r,φ)\n",
        "\n",
        "is completely determined by modulus r and phase angle φ.\n",
        "\n",
        "\n",
        "\n",
        "If we convert complex number  to its polar coordinate, we find:\n",
        "\n",
        "***r***: Distance from z to origin, i.e., sqrt(x^2 + y^2)\n",
        "\n",
        "***φ***: Counter clockwise angle measured from the positive x-axis to the line segment\n",
        "that joins z to the origin.\n",
        "\n",
        "\n",
        "Python's cmath module provides access to the mathematical functions for complex numbers.\n",
        "\n",
        "**Task**\n",
        "\n",
        "You are given a complex ***z***.\n",
        "Your task is to convert it to polar coordinates.\n",
        "\n",
        "**Input Format**\n",
        "\n",
        "A single line containing the complex number ***z***. Note: complex() function can be used in python to convert the input as a complex number.\n",
        "\n",
        "**Output Format**\n",
        "\n",
        "Output two lines:\n",
        "\n",
        "The first line should contain the value of **r**.\n",
        "\n",
        "The second line should contain the value of **φ**.\n",
        "\n",
        "**Sample Input**\n",
        "\n",
        "1+2j\n",
        "\n",
        "**Sample Output**\n",
        "\n",
        " 2.23606797749979\n",
        "\n",
        " 1.1071487177940904\n",
        "\n",
        "*Note:* The output should be correct up to 3 decimal places."
      ],
      "metadata": {
        "id": "KdIrHbEE2VhR"
      }
    },
    {
      "cell_type": "code",
      "execution_count": 1,
      "metadata": {
        "colab": {
          "base_uri": "https://localhost:8080/"
        },
        "id": "09qdeSwwwdnA",
        "outputId": "f62b674c-3d10-4d13-d345-5cd6a7204d26"
      },
      "outputs": [
        {
          "output_type": "stream",
          "name": "stdout",
          "text": [
            "1+2j\n",
            "2.23606797749979\n",
            "1.1071487177940904\n"
          ]
        }
      ],
      "source": [
        "import cmath\n",
        "i=input()\n",
        "z=complex(i)\n",
        "\n",
        "print(abs(z))\n",
        "print(cmath.phase(z))"
      ]
    }
  ]
}