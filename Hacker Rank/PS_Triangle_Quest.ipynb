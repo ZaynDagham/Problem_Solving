{
  "nbformat": 4,
  "nbformat_minor": 0,
  "metadata": {
    "colab": {
      "provenance": []
    },
    "kernelspec": {
      "name": "python3",
      "display_name": "Python 3"
    },
    "language_info": {
      "name": "python"
    }
  },
  "cells": [
    {
      "cell_type": "markdown",
      "source": [
        "**TASK**\n",
        "\n",
        "You are given a positive integer.\n",
        "\n",
        "Print a numerical triangle of height  like the one below:\n",
        "\n",
        "1\n",
        "\n",
        "22\n",
        "\n",
        "333\n",
        "\n",
        "4444\n",
        "\n",
        "55555\n",
        "\n",
        "......\n",
        "\n",
        "\n",
        "Can you do it using only arithmetic operations, a single for loop and print statement?\n",
        "\n",
        "\n",
        "Use no more than two lines. The first line (the for statement) is already written for you. You have to complete the print statement.\n",
        "\n",
        "\n",
        "Note: Using anything related to strings will give a score of 0.\n",
        "\n",
        "Input Format\n",
        "A single line containing integer, .\n",
        "\n",
        "**Output Format**\n",
        "\n",
        "Print  lines as explained above.\n",
        "\n",
        "**Sample Input**\n",
        "\n",
        "5\n",
        "\n",
        "**Sample Output**\n",
        "\n",
        "1\n",
        "\n",
        "22\n",
        "\n",
        "333\n",
        "\n",
        "4444\n"
      ],
      "metadata": {
        "id": "on-rBbHdzR43"
      }
    },
    {
      "cell_type": "code",
      "execution_count": 1,
      "metadata": {
        "colab": {
          "base_uri": "https://localhost:8080/"
        },
        "id": "L9zbjZsrzQKA",
        "outputId": "39906f38-d7ea-4295-a656-4ed7f3222e95"
      },
      "outputs": [
        {
          "output_type": "stream",
          "name": "stdout",
          "text": [
            "7\n",
            "1\n",
            "22\n",
            "333\n",
            "4444\n",
            "55555\n",
            "666666\n"
          ]
        }
      ],
      "source": [
        "for i in range(1,int(input())): #More than 2 lines will result in 0 score. Do not leave a blank line also\n",
        "    print(int((i*(pow(10, i) - 1)/9)))"
      ]
    }
  ]
}