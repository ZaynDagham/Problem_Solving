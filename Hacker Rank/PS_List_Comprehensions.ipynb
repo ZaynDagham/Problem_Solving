{
  "nbformat": 4,
  "nbformat_minor": 0,
  "metadata": {
    "colab": {
      "provenance": []
    },
    "kernelspec": {
      "name": "python3",
      "display_name": "Python 3"
    },
    "language_info": {
      "name": "python"
    }
  },
  "cells": [
    {
      "cell_type": "markdown",
      "source": [
        "https://www.hackerrank.com/challenges/list-comprehensions/problem"
      ],
      "metadata": {
        "id": "2QjDC5WuWL7C"
      }
    },
    {
      "cell_type": "code",
      "execution_count": 1,
      "metadata": {
        "colab": {
          "base_uri": "https://localhost:8080/"
        },
        "id": "uBdTq4elWJo9",
        "outputId": "43c50bf7-2570-444b-9600-8b7606a9a531"
      },
      "outputs": [
        {
          "output_type": "stream",
          "name": "stdout",
          "text": [
            "1\n",
            "1\n",
            "1\n",
            "2\n",
            "[[0, 0, 0], [0, 0, 1], [0, 1, 0], [1, 0, 0], [1, 1, 1]]\n"
          ]
        }
      ],
      "source": [
        "x = int(input())\n",
        "y = int(input())\n",
        "z = int(input())\n",
        "n = int(input())\n",
        "\n",
        "List = []\n",
        "\n",
        "for a in range(0, x + 1):\n",
        "    for b in range(0, y + 1):\n",
        "        for c in range(0, z + 1):\n",
        "            if (a + b + c) != n:\n",
        "                List.append([a, b, c])\n",
        "\n",
        "print(List)"
      ]
    }
  ]
}