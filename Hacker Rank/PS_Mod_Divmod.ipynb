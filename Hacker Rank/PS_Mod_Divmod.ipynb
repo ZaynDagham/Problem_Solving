{
  "nbformat": 4,
  "nbformat_minor": 0,
  "metadata": {
    "colab": {
      "provenance": []
    },
    "kernelspec": {
      "name": "python3",
      "display_name": "Python 3"
    },
    "language_info": {
      "name": "python"
    }
  },
  "cells": [
    {
      "cell_type": "markdown",
      "source": [
        "One of the built-in functions of Python is divmod, which takes two arguments a and b and returns a tuple containing the quotient of a/b first and then the remainder a.\n",
        "\n",
        "**Task**\n",
        "\n",
        "Read in two integers, a and b, and print three lines.\n",
        "\n",
        "The first line is the integer division a//b (While using Python2 remember to import division from __future__).\n",
        "\n",
        "The second line is the result of the modulo operator: a%b.\n",
        "\n",
        "The third line prints the divmod of a and b.\n",
        "\n",
        "**Input Format**\n",
        "\n",
        "The first line contains the first integer, a, and the second line contains the second integer, b.\n",
        "\n",
        "**Output For**mat\n",
        "\n",
        "Print the result as described above.\n",
        "\n",
        "**Sample Input**\n",
        "\n",
        "177\n",
        "\n",
        "10\n",
        "\n",
        "**Sample Output**\n",
        "\n",
        "17\n",
        "\n",
        "7\n",
        "\n",
        "(17, 7)\n"
      ],
      "metadata": {
        "id": "SY4TD93l-KKy"
      }
    },
    {
      "cell_type": "code",
      "execution_count": 2,
      "metadata": {
        "colab": {
          "base_uri": "https://localhost:8080/"
        },
        "id": "yloYczUt9_lE",
        "outputId": "49993f5b-2bc5-4f83-dbe0-072c559d8aee"
      },
      "outputs": [
        {
          "output_type": "stream",
          "name": "stdout",
          "text": [
            "177\n",
            "10\n",
            "17\n",
            "7\n",
            "(17, 7)\n"
          ]
        }
      ],
      "source": [
        "a=int(input())\n",
        "b=int(input())\n",
        "\n",
        "print(a // b)\n",
        "print(int(a % b))\n",
        "print(divmod(a,b))"
      ]
    }
  ]
}