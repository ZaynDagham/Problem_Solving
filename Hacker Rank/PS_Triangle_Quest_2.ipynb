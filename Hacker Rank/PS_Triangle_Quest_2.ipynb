{
  "nbformat": 4,
  "nbformat_minor": 0,
  "metadata": {
    "colab": {
      "provenance": []
    },
    "kernelspec": {
      "name": "python3",
      "display_name": "Python 3"
    },
    "language_info": {
      "name": "python"
    }
  },
  "cells": [
    {
      "cell_type": "markdown",
      "source": [
        "**TASK**\n",
        "\n",
        "You are given a positive integer *N*.\n",
        "\n",
        "Your task is to print a palindromic triangle of size *N*.\n",
        "\n",
        "For example, a palindromic triangle of size **5** is:\n",
        "\n",
        "1\n",
        "\n",
        "121\n",
        "\n",
        "12321\n",
        "\n",
        "1234321\n",
        "\n",
        "123454321\n",
        "\n",
        "You can't take more than two lines.\n",
        "The first line (a for-statement) is already written for you.\n",
        "\n",
        "You have to complete the code using exactly one print statement.\n",
        "\n",
        "**Note:**\n",
        "\n",
        "Using anything related to strings will give a score of **0**.\n",
        "\n",
        "Using more than one for-statement will give a score of **0**.\n",
        "\n",
        "**Input Format**\n",
        "\n",
        "A single line of input containing the integer *N*.\n",
        "\n",
        "\n",
        "**Output Format**\n",
        "\n",
        "Print the palindromic triangle of size *N* as explained above.\n",
        "\n",
        "**Sample Input**\n",
        "\n",
        "5\n",
        "\n",
        "**Sample Output**\n",
        "\n",
        "1\n",
        "\n",
        "121\n",
        "\n",
        "12321\n",
        "\n",
        "1234321\n",
        "\n",
        "123454321\n"
      ],
      "metadata": {
        "id": "fIWlgfhEvVAQ"
      }
    },
    {
      "cell_type": "code",
      "execution_count": 2,
      "metadata": {
        "colab": {
          "base_uri": "https://localhost:8080/"
        },
        "id": "a-kdDzXpvLXa",
        "outputId": "249c0cf7-eecc-4a75-835e-6a70c727b0a2"
      },
      "outputs": [
        {
          "output_type": "stream",
          "name": "stdout",
          "text": [
            "7\n",
            "1\n",
            "121\n",
            "12321\n",
            "1234321\n",
            "123454321\n",
            "12345654321\n",
            "1234567654321\n"
          ]
        }
      ],
      "source": [
        "for i in range(1,int(input())+1): #More than 2 lines will result in 0 score. Do not leave a blank line also\n",
        "    print((10**i//9)**2)"
      ]
    }
  ]
}