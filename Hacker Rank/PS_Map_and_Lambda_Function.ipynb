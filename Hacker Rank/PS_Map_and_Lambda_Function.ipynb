{
  "nbformat": 4,
  "nbformat_minor": 0,
  "metadata": {
    "colab": {
      "provenance": []
    },
    "kernelspec": {
      "name": "python3",
      "display_name": "Python 3"
    },
    "language_info": {
      "name": "python"
    }
  },
  "cells": [
    {
      "cell_type": "markdown",
      "source": [
        "**TASK**\n",
        "\n",
        "Let's learn some new Python concepts! You have to generate a list of the first ***N*** fibonacci numbers, ***0*** being the first number. Then, apply the map function and a lambda expression to cube each fibonacci number and print the list.\n",
        "\n",
        "**Note:**\n",
        "\n",
        "Lambda functions cannot use the return statement and can only have a single expression. Unlike def, which creates a function and assigns it a name, lambda creates a function and returns the function itself. Lambda can be used inside lists and dictionaries.\n",
        "\n",
        "**Input Format**\n",
        "\n",
        "One line of input: an integer ***N***.\n",
        "\n",
        "**Output Format**\n",
        "\n",
        "A list on a single line containing the cubes of the first ***N*** fibonacci numbers.\n",
        "\n",
        "**Sample Input**\n",
        "\n",
        "5\n",
        "\n",
        "**Sample Output**\n",
        "\n",
        "[0, 1, 1, 8, 27]"
      ],
      "metadata": {
        "id": "Cpo-zV2ODH8C"
      }
    },
    {
      "cell_type": "code",
      "execution_count": 1,
      "metadata": {
        "colab": {
          "base_uri": "https://localhost:8080/"
        },
        "id": "StpgQmMcDG57",
        "outputId": "b9485ba5-286a-447d-f0c4-89313abece31"
      },
      "outputs": [
        {
          "output_type": "stream",
          "name": "stdout",
          "text": [
            "5\n",
            "[0, 1, 1, 8, 27]\n"
          ]
        }
      ],
      "source": [
        "cube = lambda x: x**3 # complete the lambda function\n",
        "\n",
        "def fibonacci(n):\n",
        "    # return a list of fibonacci numbers\n",
        "    a = 0\n",
        "    b = 1\n",
        "    result = []\n",
        "    for i in range(n):\n",
        "        result.append(a)\n",
        "        t = a + b\n",
        "        a = b\n",
        "        b = t\n",
        "    return result\n",
        "if __name__ == '__main__':\n",
        "    n = int(input())\n",
        "    print(list(map(cube, fibonacci(n))))"
      ]
    }
  ]
}